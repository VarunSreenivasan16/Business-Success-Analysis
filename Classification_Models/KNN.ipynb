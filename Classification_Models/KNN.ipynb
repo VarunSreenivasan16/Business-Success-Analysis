{
 "cells": [
  {
   "cell_type": "code",
   "execution_count": 1,
   "metadata": {},
   "outputs": [],
   "source": [
    "#Libraries\n",
    "\n",
    "import pandas as pd\n",
    "import numpy as np\n",
    "from sklearn.model_selection import train_test_split\n",
    "from imblearn.over_sampling import SMOTENC\n",
    "from sklearn.metrics import accuracy_score\n",
    "from sklearn.metrics import balanced_accuracy_score\n",
    "from sklearn.metrics import f1_score\n",
    "from sklearn.metrics import precision_score\n",
    "from sklearn.metrics import recall_score\n",
    "from sklearn.model_selection import StratifiedKFold\n",
    "from cross_validation_normalization import validation_norm_pipeline\n",
    "from sklearn.neighbors import KNeighborsClassifier\n",
    "from sklearn.preprocessing import MinMaxScaler"
   ]
  },
  {
   "cell_type": "code",
   "execution_count": 2,
   "metadata": {},
   "outputs": [],
   "source": [
    "#Load Dataset\n",
    "df = pd.read_csv('Dataset.csv')\n",
    "\n",
    "features = df.iloc[:, 1:]\n",
    "labels = df['Is_Open']"
   ]
  },
  {
   "cell_type": "code",
   "execution_count": 3,
   "metadata": {},
   "outputs": [],
   "source": [
    "#Convert features and labels to numpy arrays\n",
    "X = np.array(features)\n",
    "y = np.array(labels)\n",
    "\n",
    "#10-Fold cross validation\n",
    "cv = StratifiedKFold(n_splits=10, shuffle=True, random_state=1)\n",
    "\n",
    "#Apply Training/Test split \n",
    "X_train, X_test, y_train, y_test = train_test_split(X, y, test_size=0.2, random_state=0)"
   ]
  },
  {
   "cell_type": "code",
   "execution_count": 4,
   "metadata": {},
   "outputs": [],
   "source": [
    "#KNN model\n",
    "knn = KNeighborsClassifier(n_neighbors=450, weights='distance', metric='minkowski', p=2)"
   ]
  },
  {
   "cell_type": "code",
   "execution_count": 8,
   "metadata": {},
   "outputs": [
    {
     "name": "stdout",
     "output_type": "stream",
     "text": [
      "Fold 1 accuracy: 0.7134264619334394\n",
      "Fold 2 accuracy: 0.7203862738829334\n",
      "Fold 3 accuracy: 0.7136763120233856\n",
      "Fold 4 accuracy: 0.7148735953909844\n",
      "Fold 5 accuracy: 0.7104429867068893\n",
      "Fold 6 accuracy: 0.7059035860002232\n",
      "Fold 7 accuracy: 0.7148703667280174\n",
      "Fold 8 accuracy: 0.7161159646067496\n",
      "Fold 9 accuracy: 0.7116796076331947\n",
      "Fold 10 accuracy: 0.6989646141308147\n"
     ]
    }
   ],
   "source": [
    "#Perform 10-Fold cross validation by calling validation_pipeline defined cross_validation.py\n",
    "validation_accuracy = validation_norm_pipeline(knn, cv, X_train, y_train)"
   ]
  },
  {
   "cell_type": "code",
   "execution_count": 7,
   "metadata": {},
   "outputs": [
    {
     "name": "stdout",
     "output_type": "stream",
     "text": [
      "KNN Validation Accuracy: 0.7120339769036631\n"
     ]
    }
   ],
   "source": [
    "print('KNN Validation Accuracy: ' + str(validation_accuracy))"
   ]
  },
  {
   "cell_type": "code",
   "execution_count": 9,
   "metadata": {},
   "outputs": [],
   "source": [
    "#SMOTE that will be used to upsample training set.\n",
    "smote = SMOTENC(categorical_features=[2,4,7,8,9,10,11,12,13,14,15,16,17,18,19,20,21,22,\n",
    "            23,24,25,26,27,28,29,30,31,32,33,34,35,36,37,38,39,40,41,42,43,44], random_state=42)\n",
    "\n",
    "#Upsample training data, will be used for training model for prediction on test set\n",
    "X_train_upsample, y_train_upsample = smote.fit_resample(X_train, y_train)\n",
    "\n",
    "#Min-Max Normalization\n",
    "scaler = MinMaxScaler()\n",
    "        \n",
    "#Fit on training set\n",
    "scaler.fit(X_train_upsample)\n",
    "        \n",
    "#scale on training set\n",
    "X_train_upsample = scaler.transform(X_train_upsample)\n",
    "        \n",
    "#scale the test dataset\n",
    "X_test = scaler.transform(X_test)"
   ]
  },
  {
   "cell_type": "code",
   "execution_count": 10,
   "metadata": {},
   "outputs": [],
   "source": [
    "#fit model\n",
    "knn.fit(X_train_upsample, y_train_upsample)\n",
    "\n",
    "#Predictions\n",
    "pred = knn.predict(X_test)\n",
    "\n",
    "#vanilla accuracy\n",
    "test_accuracy_vanilla = accuracy_score(y_test, pred)\n",
    "\n",
    "#balanced accuracy\n",
    "test_accuracy_balanced = balanced_accuracy_score(y_test, pred)"
   ]
  },
  {
   "cell_type": "code",
   "execution_count": 11,
   "metadata": {},
   "outputs": [
    {
     "name": "stdout",
     "output_type": "stream",
     "text": [
      "KNN Test Vanilla Accuracy: 0.7745458090935682\n"
     ]
    }
   ],
   "source": [
    "print('KNN Test Vanilla Accuracy: ' + str(test_accuracy_vanilla))"
   ]
  },
  {
   "cell_type": "code",
   "execution_count": 12,
   "metadata": {},
   "outputs": [
    {
     "name": "stdout",
     "output_type": "stream",
     "text": [
      "KNN Test Balanced Accuracy: 0.7082445729954864\n"
     ]
    }
   ],
   "source": [
    "print('KNN Test Balanced Accuracy: ' + str(test_accuracy_balanced))"
   ]
  },
  {
   "cell_type": "code",
   "execution_count": 13,
   "metadata": {},
   "outputs": [
    {
     "name": "stdout",
     "output_type": "stream",
     "text": [
      "Recall: 0.8126416219439475\n",
      "Precision: 0.9018794670431484\n",
      "F1: 0.8549382070638423\n"
     ]
    }
   ],
   "source": [
    "#Open Businesses\n",
    "recall_open = recall_score(y_test, pred, pos_label=1)\n",
    "precision_open = precision_score(y_test, pred, pos_label=1)\n",
    "f1_open = f1_score(y_test, pred, pos_label=1)\n",
    "\n",
    "print(\"Recall: \" + str(recall_open))\n",
    "print(\"Precision: \" + str(precision_open))\n",
    "print(\"F1: \" + str(f1_open))"
   ]
  },
  {
   "cell_type": "code",
   "execution_count": 14,
   "metadata": {},
   "outputs": [
    {
     "name": "stdout",
     "output_type": "stream",
     "text": [
      "Recall: 0.6038475240470252\n",
      "Precision: 0.4183635690485005\n",
      "F1: 0.4942771743092513\n"
     ]
    }
   ],
   "source": [
    "#Closed Businesses\n",
    "recall_closed = recall_score(y_test, pred, pos_label=0)\n",
    "precision_closed = precision_score(y_test, pred, pos_label=0)\n",
    "f1_closed = f1_score(y_test, pred, pos_label=0)\n",
    "\n",
    "print(\"Recall: \" + str(recall_closed))\n",
    "print(\"Precision: \" + str(precision_closed))\n",
    "print(\"F1: \" + str(f1_closed))"
   ]
  }
 ],
 "metadata": {
  "kernelspec": {
   "display_name": "Python 3",
   "language": "python",
   "name": "python3"
  },
  "language_info": {
   "codemirror_mode": {
    "name": "ipython",
    "version": 3
   },
   "file_extension": ".py",
   "mimetype": "text/x-python",
   "name": "python",
   "nbconvert_exporter": "python",
   "pygments_lexer": "ipython3",
   "version": "3.7.7"
  }
 },
 "nbformat": 4,
 "nbformat_minor": 4
}
