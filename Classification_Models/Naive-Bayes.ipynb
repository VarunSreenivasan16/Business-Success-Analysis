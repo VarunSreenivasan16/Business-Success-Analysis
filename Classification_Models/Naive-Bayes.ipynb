{
 "cells": [
  {
   "cell_type": "code",
   "execution_count": 1,
   "metadata": {},
   "outputs": [],
   "source": [
    "#Libraries\n",
    "\n",
    "import pandas as pd\n",
    "import numpy as np\n",
    "from sklearn.model_selection import train_test_split\n",
    "from imblearn.over_sampling import SMOTENC\n",
    "from sklearn.metrics import accuracy_score\n",
    "from sklearn.metrics import balanced_accuracy_score\n",
    "from sklearn.metrics import f1_score\n",
    "from sklearn.metrics import precision_score\n",
    "from sklearn.metrics import recall_score\n",
    "from sklearn.model_selection import StratifiedKFold\n",
    "from cross_validation import validation_pipeline\n",
    "from mixed_naive_bayes import MixedNB"
   ]
  },
  {
   "cell_type": "code",
   "execution_count": 2,
   "metadata": {},
   "outputs": [],
   "source": [
    "#Load Dataset\n",
    "\n",
    "df = pd.read_csv('Dataset.csv')\n",
    "\n",
    "features = df.iloc[:, 1:]\n",
    "labels = df['Is_Open']"
   ]
  },
  {
   "cell_type": "code",
   "execution_count": 3,
   "metadata": {},
   "outputs": [],
   "source": [
    "#need to make sure ordinal categorical variables start with 0\n",
    "\n",
    "features['Income_Category'] = features['Income_Category'] - 1\n",
    "features['Noise_Level'] = features['Noise_Level'] - 1\n",
    "features['Price_Range'] = features['Price_Range'] - 1 "
   ]
  },
  {
   "cell_type": "code",
   "execution_count": 4,
   "metadata": {},
   "outputs": [],
   "source": [
    "#Convert features and labels to numpy arrays\n",
    "X = np.array(features)\n",
    "y = np.array(labels)"
   ]
  },
  {
   "cell_type": "code",
   "execution_count": 5,
   "metadata": {},
   "outputs": [],
   "source": [
    "#10-Fold Cross Validation\n",
    "cv = StratifiedKFold(n_splits=10, shuffle=True, random_state=1)\n",
    "\n",
    "#Apply Training/Test split\n",
    "X_train, X_test, y_train, y_test = train_test_split(X, y, test_size=0.2, random_state=0)"
   ]
  },
  {
   "cell_type": "code",
   "execution_count": 6,
   "metadata": {},
   "outputs": [],
   "source": [
    "#Naive Bayes model\n",
    "nb = MixedNB(categorical_features=[2,4,7,8,9,10,11,12,13,14,15,16,17,18,19,20,21,22,\n",
    "                                   23,24,25,26,27,28,29,30,31,32,33,34,35,36,37,38,39,40,41,42,43,44])"
   ]
  },
  {
   "cell_type": "code",
   "execution_count": 8,
   "metadata": {},
   "outputs": [
    {
     "name": "stdout",
     "output_type": "stream",
     "text": [
      "[5 2 2 2 2 2 2 2 4 4 2 2 2 2 2 2 2 2 2 2 2 2 2 2 2 2 2 2 2 2 2 2 2 2 2 2 2\n",
      " 2 2 2]\n",
      "Fold 1 accuracy: 0.6861873753245881\n",
      "[5 2 2 2 2 2 2 2 4 4 2 2 2 2 2 2 2 2 2 2 2 2 2 2 2 2 2 2 2 2 2 2 2 2 2 2 2\n",
      " 2 2 2]\n",
      "Fold 2 accuracy: 0.6899504519703469\n",
      "[5 2 2 2 2 2 2 2 4 4 2 2 2 2 2 2 2 2 2 2 2 2 2 2 2 2 2 2 2 2 2 2 2 2 2 2 2\n",
      " 2 2 2]\n",
      "Fold 3 accuracy: 0.6839300416274996\n",
      "[5 2 2 2 2 2 2 2 4 4 2 2 2 2 2 2 2 2 2 2 2 2 2 2 2 2 2 2 2 2 2 2 2 2 2 2 2\n",
      " 2 2 2]\n",
      "Fold 4 accuracy: 0.6915547891074217\n",
      "[5 2 2 2 2 2 2 2 4 4 2 2 2 2 2 2 2 2 2 2 2 2 2 2 2 2 2 2 2 2 2 2 2 2 2 2 2\n",
      " 2 2 2]\n",
      "Fold 5 accuracy: 0.6790184472541161\n",
      "[5 2 2 2 2 2 2 2 4 4 2 2 2 2 2 2 2 2 2 2 2 2 2 2 2 2 2 2 2 2 2 2 2 2 2 2 2\n",
      " 2 2 2]\n",
      "Fold 6 accuracy: 0.6881267880395163\n",
      "[5 2 2 2 2 2 2 2 4 4 2 2 2 2 2 2 2 2 2 2 2 2 2 2 2 2 2 2 2 2 2 2 2 2 2 2 2\n",
      " 2 2 2]\n",
      "Fold 7 accuracy: 0.6866351793694812\n",
      "[5 2 2 2 2 2 2 2 4 4 2 2 2 2 2 2 2 2 2 2 2 2 2 2 2 2 2 2 2 2 2 2 2 2 2 2 2\n",
      " 2 2 2]\n",
      "Fold 8 accuracy: 0.6902295159978655\n",
      "[5 2 2 2 2 2 2 2 4 4 2 2 2 2 2 2 2 2 2 2 2 2 2 2 2 2 2 2 2 2 2 2 2 2 2 2 2\n",
      " 2 2 2]\n",
      "Fold 9 accuracy: 0.6877172404240972\n",
      "[5 2 2 2 2 2 2 2 4 4 2 2 2 2 2 2 2 2 2 2 2 2 2 2 2 2 2 2 2 2 2 2 2 2 2 2 2\n",
      " 2 2 2]\n",
      "Fold 10 accuracy: 0.6816259984690539\n"
     ]
    }
   ],
   "source": [
    "#Perform 10-Fold cross validation by calling validation_pipeline defined cross_validation.py\n",
    "validation_accuracy = validation_pipeline(nb, cv, X_train, y_train)"
   ]
  },
  {
   "cell_type": "code",
   "execution_count": 8,
   "metadata": {},
   "outputs": [
    {
     "name": "stdout",
     "output_type": "stream",
     "text": [
      "Naive-Bayes Validation Accuracy: 0.6864975827583985\n"
     ]
    }
   ],
   "source": [
    "print('Naive-Bayes Validation Accuracy: ' + str(validation_accuracy))"
   ]
  },
  {
   "cell_type": "code",
   "execution_count": 9,
   "metadata": {},
   "outputs": [
    {
     "name": "stdout",
     "output_type": "stream",
     "text": [
      "[5 2 2 2 2 2 2 2 4 4 2 2 2 2 2 2 2 2 2 2 2 2 2 2 2 2 2 2 2 2 2 2 2 2 2 2 2\n",
      " 2 2 2]\n"
     ]
    }
   ],
   "source": [
    "#SMOTE that will be used to upsample training set.\n",
    "smote = SMOTENC(categorical_features=[2,4,7,8,9,10,11,12,13,14,15,16,17,18,19,20,21,22,\n",
    "            23,24,25,26,27,28,29,30,31,32,33,34,35,36,37,38,39,40,41,42,43,44], random_state=42)\n",
    "\n",
    "#Upsample training data, will be used for training model for prediction on test set\n",
    "X_train_upsample, y_train_upsample = smote.fit_resample(X_train, y_train)\n",
    "\n",
    "#fit model\n",
    "nb.fit(X_train_upsample, y_train_upsample)\n",
    "\n",
    "#predictions\n",
    "pred = nb.predict(X_test)\n",
    "\n",
    "#vanilla accuracy\n",
    "test_accuracy_vanilla = accuracy_score(y_test, pred)\n",
    "\n",
    "#balanced accuracy\n",
    "test_accuracy_balanced = balanced_accuracy_score(y_test, pred)"
   ]
  },
  {
   "cell_type": "code",
   "execution_count": 10,
   "metadata": {},
   "outputs": [
    {
     "name": "stdout",
     "output_type": "stream",
     "text": [
      "Naive-Bayes Vanilla Test Accuracy: 0.6780525853943905\n"
     ]
    }
   ],
   "source": [
    "print(\"Naive-Bayes Vanilla Test Accuracy: \" + str(test_accuracy_vanilla))"
   ]
  },
  {
   "cell_type": "code",
   "execution_count": 11,
   "metadata": {},
   "outputs": [
    {
     "name": "stdout",
     "output_type": "stream",
     "text": [
      "Naive-Bayes Balanced-Test Accuracy: 0.6830625575652542\n"
     ]
    }
   ],
   "source": [
    "print(\"Naive-Bayes Balanced-Test Accuracy: \" + str(test_accuracy_balanced))"
   ]
  },
  {
   "cell_type": "code",
   "execution_count": 12,
   "metadata": {},
   "outputs": [
    {
     "name": "stdout",
     "output_type": "stream",
     "text": [
      "Recall: 0.6751739216855496\n",
      "Precision: 0.9073134248624393\n",
      "F1: 0.7742170761726762\n"
     ]
    }
   ],
   "source": [
    "#Open Businesses\n",
    "recall_open = recall_score(y_test, pred, pos_label=1)\n",
    "precision_open = precision_score(y_test, pred, pos_label=1)\n",
    "f1_open = f1_score(y_test, pred, pos_label=1)\n",
    "\n",
    "print(\"Recall: \" + str(recall_open))\n",
    "print(\"Precision: \" + str(precision_open))\n",
    "print(\"F1: \" + str(f1_open))"
   ]
  },
  {
   "cell_type": "code",
   "execution_count": 13,
   "metadata": {},
   "outputs": [
    {
     "name": "stdout",
     "output_type": "stream",
     "text": [
      "Recall: 0.690951193444959\n",
      "Precision: 0.32190871369294605\n",
      "F1: 0.4391983695652174\n"
     ]
    }
   ],
   "source": [
    "#Closed Businesses\n",
    "recall_closed = recall_score(y_test, pred, pos_label=0)\n",
    "precision_closed = precision_score(y_test, pred, pos_label=0)\n",
    "f1_closed = f1_score(y_test, pred, pos_label=0)\n",
    "\n",
    "print(\"Recall: \" + str(recall_closed))\n",
    "print(\"Precision: \" + str(precision_closed))\n",
    "print(\"F1: \" + str(f1_closed))"
   ]
  }
 ],
 "metadata": {
  "kernelspec": {
   "display_name": "Python 3",
   "language": "python",
   "name": "python3"
  },
  "language_info": {
   "codemirror_mode": {
    "name": "ipython",
    "version": 3
   },
   "file_extension": ".py",
   "mimetype": "text/x-python",
   "name": "python",
   "nbconvert_exporter": "python",
   "pygments_lexer": "ipython3",
   "version": "3.7.7"
  }
 },
 "nbformat": 4,
 "nbformat_minor": 4
}
