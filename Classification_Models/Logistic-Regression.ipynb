{
 "cells": [
  {
   "cell_type": "code",
   "execution_count": 3,
   "metadata": {},
   "outputs": [],
   "source": [
    "#Libraries\n",
    "\n",
    "import pandas as pd\n",
    "import numpy as np\n",
    "from sklearn.model_selection import train_test_split\n",
    "from imblearn.over_sampling import SMOTENC\n",
    "from sklearn.metrics import accuracy_score\n",
    "from sklearn.metrics import balanced_accuracy_score\n",
    "from sklearn.metrics import f1_score\n",
    "from sklearn.metrics import precision_score\n",
    "from sklearn.metrics import recall_score\n",
    "from sklearn.model_selection import StratifiedKFold\n",
    "from cross_validation_normalization import validation_norm_pipeline\n",
    "from sklearn.linear_model import LogisticRegression\n",
    "from sklearn.preprocessing import MinMaxScaler"
   ]
  },
  {
   "cell_type": "code",
   "execution_count": 4,
   "metadata": {},
   "outputs": [],
   "source": [
    "#Load Dataset\n",
    "\n",
    "df = pd.read_csv('Dataset.csv')\n",
    "\n",
    "features = df.iloc[:, 1:]\n",
    "labels = df['Is_Open']"
   ]
  },
  {
   "cell_type": "code",
   "execution_count": 5,
   "metadata": {},
   "outputs": [],
   "source": [
    "#Convert features and labels to numpy arrays\n",
    "X = np.array(features)\n",
    "y = np.array(labels)\n",
    "\n",
    "#10-Fold Cross Validation\n",
    "cv = StratifiedKFold(n_splits=10, shuffle=True, random_state=1)\n",
    "\n",
    "#Apply Training/Test split\n",
    "X_train, X_test, y_train, y_test = train_test_split(X, y, test_size=0.2, random_state=0)"
   ]
  },
  {
   "cell_type": "code",
   "execution_count": 6,
   "metadata": {},
   "outputs": [],
   "source": [
    "#Logistic Regression Model\n",
    "log = LogisticRegression(solver = 'saga', max_iter = 1000000000, multi_class='ovr')"
   ]
  },
  {
   "cell_type": "code",
   "execution_count": 9,
   "metadata": {},
   "outputs": [
    {
     "name": "stdout",
     "output_type": "stream",
     "text": [
      "Fold 1 accuracy: 0.7021492577954531\n",
      "Fold 2 accuracy: 0.7082555853108465\n",
      "Fold 3 accuracy: 0.7093842304521718\n",
      "Fold 4 accuracy: 0.6995834645172931\n",
      "Fold 5 accuracy: 0.6961324943408574\n",
      "Fold 6 accuracy: 0.7047387904657576\n",
      "Fold 7 accuracy: 0.7090155617239164\n",
      "Fold 8 accuracy: 0.7091905176864217\n",
      "Fold 9 accuracy: 0.7012884956305514\n",
      "Fold 10 accuracy: 0.6942688082544306\n"
     ]
    }
   ],
   "source": [
    "validation_accuracy = validation_norm_pipeline(log, cv, X_train, y_train)"
   ]
  },
  {
   "cell_type": "code",
   "execution_count": 8,
   "metadata": {},
   "outputs": [
    {
     "name": "stdout",
     "output_type": "stream",
     "text": [
      "Logistic-Regression Validation Accuracy: 0.7034007206177699\n"
     ]
    }
   ],
   "source": [
    "print('Logistic-Regression Validation Accuracy: ' + str(validation_accuracy))"
   ]
  },
  {
   "cell_type": "code",
   "execution_count": 10,
   "metadata": {},
   "outputs": [],
   "source": [
    "#SMOTE that will be used to upsample training set.\n",
    "smote = SMOTENC(categorical_features=[2,4,7,8,9,10,11,12,13,14,15,16,17,18,19,20,21,22,\n",
    "            23,24,25,26,27,28,29,30,31,32,33,34,35,36,37,38,39,40,41,42,43,44], random_state=42)\n",
    "\n",
    "\n",
    "#Upsample training data, will be used for training model for prediction on test set\n",
    "X_train_upsample, y_train_upsample = smote.fit_resample(X_train, y_train)\n",
    "\n",
    "\n",
    "#Min-Max Normalization\n",
    "scaler = MinMaxScaler()\n",
    "        \n",
    "#Fit on training set\n",
    "scaler.fit(X_train_upsample)\n",
    "        \n",
    "#scale on training set\n",
    "X_train_upsample = scaler.transform(X_train_upsample)\n",
    "        \n",
    "#scale the test dataset\n",
    "X_test = scaler.transform(X_test)"
   ]
  },
  {
   "cell_type": "code",
   "execution_count": 11,
   "metadata": {},
   "outputs": [],
   "source": [
    "#fit model\n",
    "log.fit(X_train_upsample, y_train_upsample)\n",
    "\n",
    "#predictions\n",
    "pred = log.predict(X_test)\n",
    "\n",
    "#vanilla accuracy\n",
    "test_accuracy_vanilla = accuracy_score(y_test, pred)\n",
    "\n",
    "#balanced accuracy\n",
    "test_accuracy_balanced = balanced_accuracy_score(y_test, pred)"
   ]
  },
  {
   "cell_type": "code",
   "execution_count": 12,
   "metadata": {},
   "outputs": [
    {
     "name": "stdout",
     "output_type": "stream",
     "text": [
      "Logistic-Regression Test Vanilla Accuracy: 0.7687282654619909\n"
     ]
    }
   ],
   "source": [
    "print('Logistic-Regression Test Vanilla Accuracy: ' + str(test_accuracy_vanilla))"
   ]
  },
  {
   "cell_type": "code",
   "execution_count": 13,
   "metadata": {},
   "outputs": [
    {
     "name": "stdout",
     "output_type": "stream",
     "text": [
      "Logistic-Regression Test Balanced Accuracy: 0.7035796515469426\n"
     ]
    }
   ],
   "source": [
    "print('Logistic-Regression Test Balanced Accuracy: ' + str(test_accuracy_balanced))"
   ]
  },
  {
   "cell_type": "code",
   "execution_count": 14,
   "metadata": {},
   "outputs": [
    {
     "name": "stdout",
     "output_type": "stream",
     "text": [
      "Recall: 0.8061617968594713\n",
      "Precision: 0.9005284426484302\n",
      "F1: 0.8507362503670763\n"
     ]
    }
   ],
   "source": [
    "#Open Businesses\n",
    "recall_open = recall_score(y_test, pred, pos_label=1)\n",
    "precision_open = precision_score(y_test, pred, pos_label=1)\n",
    "f1_open = f1_score(y_test, pred, pos_label=1)\n",
    "\n",
    "print(\"Recall: \" + str(recall_open))\n",
    "print(\"Precision: \" + str(precision_open))\n",
    "print(\"F1: \" + str(f1_open))"
   ]
  },
  {
   "cell_type": "code",
   "execution_count": 15,
   "metadata": {},
   "outputs": [
    {
     "name": "stdout",
     "output_type": "stream",
     "text": [
      "Recall: 0.600997506234414\n",
      "Precision: 0.408969696969697\n",
      "F1: 0.48672821696480095\n"
     ]
    }
   ],
   "source": [
    "#Closed Businesses\n",
    "recall_closed = recall_score(y_test, pred, pos_label=0)\n",
    "precision_closed = precision_score(y_test, pred, pos_label=0)\n",
    "f1_closed = f1_score(y_test, pred, pos_label=0)\n",
    "\n",
    "print(\"Recall: \" + str(recall_closed))\n",
    "print(\"Precision: \" + str(precision_closed))\n",
    "print(\"F1: \" + str(f1_closed))"
   ]
  }
 ],
 "metadata": {
  "kernelspec": {
   "display_name": "Python 3",
   "language": "python",
   "name": "python3"
  },
  "language_info": {
   "codemirror_mode": {
    "name": "ipython",
    "version": 3
   },
   "file_extension": ".py",
   "mimetype": "text/x-python",
   "name": "python",
   "nbconvert_exporter": "python",
   "pygments_lexer": "ipython3",
   "version": "3.7.7"
  }
 },
 "nbformat": 4,
 "nbformat_minor": 4
}
